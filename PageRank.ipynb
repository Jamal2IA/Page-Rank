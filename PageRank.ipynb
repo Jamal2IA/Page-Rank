{
 "cells": [
  {
   "cell_type": "markdown",
   "id": "5f4f5447",
   "metadata": {},
   "source": [
    "## PageRank Algorithm"
   ]
  },
  {
   "cell_type": "markdown",
   "id": "7c93feec",
   "metadata": {},
   "source": [
    "### Imports"
   ]
  },
  {
   "cell_type": "code",
   "execution_count": 2,
   "id": "8e733bd2",
   "metadata": {},
   "outputs": [],
   "source": [
    "import numpy as np"
   ]
  },
  {
   "cell_type": "markdown",
   "id": "183ae2d0",
   "metadata": {},
   "source": [
    "### Algorithm"
   ]
  },
  {
   "cell_type": "code",
   "execution_count": 3,
   "id": "6ab7f7c1",
   "metadata": {},
   "outputs": [],
   "source": [
    "def pagerank(M, num_iterations: int = 100, d: float = 0.85):\n",
    "\n",
    "    N = M.shape[1]\n",
    "    v = np.ones(N) / N\n",
    "    M_hat = (d * M + (1 - d) / N)\n",
    "    num = 0\n",
    "    for i in range(num_iterations):\n",
    "        v_prim = M_hat @ v\n",
    "        comparison = v_prim == v\n",
    "        equal_arrays = comparison.all()\n",
    "        if(equal_arrays):\n",
    "            break\n",
    "        else:\n",
    "            v = v_prim\n",
    "            num = num + 1\n",
    "    return v, num"
   ]
  },
  {
   "cell_type": "markdown",
   "id": "29dabf38",
   "metadata": {},
   "source": [
    "### Example"
   ]
  },
  {
   "cell_type": "code",
   "execution_count": 4,
   "id": "01216ee3",
   "metadata": {},
   "outputs": [
    {
     "name": "stdout",
     "output_type": "stream",
     "text": [
      "The stationary distribution is:  [0.25419178 0.13803151 0.13803151 0.20599017 0.26375504]\n",
      "the iteration number is: 160\n"
     ]
    }
   ],
   "source": [
    "M = np.array([[0, 0, 0, 0, 1],\n",
    "              [0.5, 0, 0, 0, 0],\n",
    "              [0.5, 0, 0, 0, 0],\n",
    "              [0, 1, 0.5, 0, 0],\n",
    "              [0, 0, 0.5, 1, 0]])\n",
    "v, num = pagerank(M, 1000, 0.85)\n",
    "print(f\"The stationary distribution is: \",v)\n",
    "print(f\"the iteration number is:\", num)"
   ]
  },
  {
   "cell_type": "code",
   "execution_count": 5,
   "id": "551a85ad",
   "metadata": {},
   "outputs": [],
   "source": [
    "sum = 0\n",
    "for i in range(len(v)):\n",
    "    sum = sum + v[i]"
   ]
  },
  {
   "cell_type": "code",
   "execution_count": 6,
   "id": "fb7f585b",
   "metadata": {},
   "outputs": [
    {
     "data": {
      "text/plain": [
       "1.0000000000000062"
      ]
     },
     "execution_count": 6,
     "metadata": {},
     "output_type": "execute_result"
    }
   ],
   "source": [
    "sum"
   ]
  }
 ],
 "metadata": {
  "kernelspec": {
   "display_name": "Python 3 (ipykernel)",
   "language": "python",
   "name": "python3"
  },
  "language_info": {
   "codemirror_mode": {
    "name": "ipython",
    "version": 3
   },
   "file_extension": ".py",
   "mimetype": "text/x-python",
   "name": "python",
   "nbconvert_exporter": "python",
   "pygments_lexer": "ipython3",
   "version": "3.9.7"
  },
  "toc": {
   "base_numbering": 1,
   "nav_menu": {},
   "number_sections": true,
   "sideBar": true,
   "skip_h1_title": false,
   "title_cell": "Table of Contents",
   "title_sidebar": "Contents",
   "toc_cell": false,
   "toc_position": {},
   "toc_section_display": true,
   "toc_window_display": false
  }
 },
 "nbformat": 4,
 "nbformat_minor": 5
}
